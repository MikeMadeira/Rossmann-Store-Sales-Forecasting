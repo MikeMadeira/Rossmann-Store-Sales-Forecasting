{
 "cells": [
  {
   "cell_type": "markdown",
   "metadata": {},
   "source": [
    "# Rossmann Stores Sales Forecasting "
   ]
  },
  {
   "cell_type": "markdown",
   "metadata": {
    "heading_collapsed": true
   },
   "source": [
    "## Planeamento da Solução (IOT)\n",
    "\n",
    "***"
   ]
  },
  {
   "cell_type": "markdown",
   "metadata": {
    "hidden": true
   },
   "source": []
  },
  {
   "cell_type": "markdown",
   "metadata": {
    "heading_collapsed": true
   },
   "source": [
    "## Workspace Setup"
   ]
  },
  {
   "cell_type": "markdown",
   "metadata": {
    "heading_collapsed": true,
    "hidden": true
   },
   "source": [
    "### Library Imports"
   ]
  },
  {
   "cell_type": "code",
   "execution_count": 1,
   "metadata": {
    "hidden": true
   },
   "outputs": [
    {
     "name": "stderr",
     "output_type": "stream",
     "text": [
      "/tmp/ipykernel_21904/3301172729.py:9: DeprecationWarning: Importing display from IPython.core.display is deprecated since IPython 7.14, please import from IPython display\n",
      "  from IPython.core.display import display,HTML,Image\n"
     ]
    }
   ],
   "source": [
    "import pandas as pd\n",
    "import seaborn as sns\n",
    "\n",
    "import warnings\n",
    "import re\n",
    "import math\n",
    "\n",
    "from matplotlib import pyplot as plt\n",
    "from IPython.core.display import display,HTML,Image"
   ]
  },
  {
   "cell_type": "markdown",
   "metadata": {
    "heading_collapsed": true,
    "hidden": true
   },
   "source": [
    "### Notebook Settings"
   ]
  },
  {
   "cell_type": "code",
   "execution_count": 2,
   "metadata": {
    "hidden": true
   },
   "outputs": [],
   "source": [
    "def jupyter_settings():\n",
    "    %matplotlib inline\n",
    "    %pylab inline\n",
    "    \n",
    "    plt.style.use( 'bmh' )\n",
    "    plt.rcParams['figure.figsize'] = [20, 12]\n",
    "    plt.rcParams['font.size'] = 24\n",
    "    \n",
    "    display( HTML( '<style>.container { width:100% !important; }</style>') )\n",
    "    \n",
    "    pd.options.display.max_columns = 200\n",
    "    pd.options.display.max_rows = 700\n",
    "    pd.set_option( 'display.expand_frame_repr', False )\n",
    "    pd.set_option('display.float_format', lambda x: '%.2f' % x)\n",
    "    \n",
    "    sns.set()\n",
    "    \n",
    "    warnings.filterwarnings(\"ignore\")"
   ]
  },
  {
   "cell_type": "code",
   "execution_count": 3,
   "metadata": {
    "hidden": true
   },
   "outputs": [
    {
     "name": "stdout",
     "output_type": "stream",
     "text": [
      "%pylab is deprecated, use %matplotlib inline and import the required libraries.\n",
      "Populating the interactive namespace from numpy and matplotlib\n"
     ]
    },
    {
     "data": {
      "text/html": [
       "<style>.container { width:100% !important; }</style>"
      ],
      "text/plain": [
       "<IPython.core.display.HTML object>"
      ]
     },
     "metadata": {},
     "output_type": "display_data"
    }
   ],
   "source": [
    "jupyter_settings()"
   ]
  },
  {
   "cell_type": "markdown",
   "metadata": {
    "heading_collapsed": true,
    "hidden": true
   },
   "source": [
    "### Auxiliar Functions"
   ]
  },
  {
   "cell_type": "markdown",
   "metadata": {
    "heading_collapsed": true,
    "hidden": true
   },
   "source": [
    "#### EDA functions"
   ]
  },
  {
   "cell_type": "markdown",
   "metadata": {
    "heading_collapsed": true,
    "hidden": true
   },
   "source": [
    "##### Summary Statistics"
   ]
  },
  {
   "cell_type": "code",
   "execution_count": 4,
   "metadata": {
    "hidden": true
   },
   "outputs": [],
   "source": [
    "# Summary Statistical functions\n",
    "\n",
    "def descriptive_stats(data: pd.DataFrame):\n",
    "    \n",
    "    \"\"\" A summary statistics with a few\n",
    "    more statistics metrics like skew and\n",
    "    kurtosis.\n",
    "    \n",
    "    It is meant to help do a descriptive\n",
    "    analysis.\n",
    "    \n",
    "    Parameters\n",
    "    ----------\n",
    "    data: pd.DataFrame\n",
    "\n",
    "    Returns\n",
    "    ----------\n",
    "    descriptive_statistics: pd.DataFrame\n",
    "    \"\"\"\n",
    "    \n",
    "    mean = pd.DataFrame(data.mean())\n",
    "    std = pd.DataFrame(data.std())\n",
    "    median = pd.DataFrame(data.median())\n",
    "\n",
    "    q1,q3 = pd.DataFrame(data.quantile(0.25)), pd.DataFrame(data.quantile(0.75))\n",
    "    \n",
    "    iqr = q3[0.75] - q1[0.25]\n",
    "    q0,q4 = q1[0.25] - (1.5*iqr), q3[0.75] + (1.5*iqr)\n",
    "\n",
    "    maximum = pd.DataFrame(data.max())\n",
    "    minimum = pd.DataFrame(data.min())\n",
    "\n",
    "    skew = pd.DataFrame(data.skew())\n",
    "    kurtosis = pd.DataFrame(data.kurtosis())\n",
    "\n",
    "    descriptive_statistics = pd.concat([mean,std,minimum,q0,q1,median,q3,q4,maximum,skew,kurtosis],axis=1)\n",
    "    \n",
    "    descriptive_statistics.columns = ['mean','std','minimum','q0','q1','median','q3','q4','maximum','skew','kurtosis']\n",
    "    \n",
    "    return descriptive_statistics\n",
    "\n",
    "def group_descriptive_stats(data: pd.DataFrame, agg_feature: str, info_feature: str):\n",
    "    \n",
    "    \"\"\" A summary statistics for an aggregation\n",
    "    of a specific feature category and get a few\n",
    "    more statistics metrics like skew and\n",
    "    kurtosis.\n",
    "    \n",
    "    It is meant to help do a descriptive\n",
    "    analysis.\n",
    "    \n",
    "    Parameters\n",
    "    ----------\n",
    "    data: pd.DataFrame\n",
    "    agg_feature: str\n",
    "    info_feature: str\n",
    "\n",
    "    Returns\n",
    "    ----------\n",
    "    grouped_descriptive_statistics: pd.DataFrame\n",
    "    \"\"\"\n",
    "    \n",
    "    grouped_data = data[[agg_feature,info_feature]].groupby(agg_feature)\n",
    "    \n",
    "    mean = grouped_data.mean()\n",
    "    std = grouped_data.std()\n",
    "    median = grouped_data.median()\n",
    "\n",
    "    q1,q3 = grouped_data.quantile(0.25), grouped_data.quantile(0.75)\n",
    "    \n",
    "    iqr = q3 - q1\n",
    "    q0,q4 = q1 - (1.5*iqr), q3 + (1.5*iqr)\n",
    "\n",
    "    maximum = grouped_data.max()\n",
    "    minimum = grouped_data.min()\n",
    "\n",
    "    skew = grouped_data.skew()\n",
    "    kurtosis = grouped_data.apply(pd.DataFrame.kurt).drop(agg_feature,axis=1)\n",
    "    \n",
    "    grouped_descriptive_statistics = pd.concat([mean,std,minimum,q0,q1,median,q3,q4,maximum,skew,kurtosis],axis=1)\n",
    "    \n",
    "    grouped_descriptive_statistics.columns = ['mean','std','minimum','q0','q1','median','q3','q4','maximum','skew','kurtosis']\n",
    "    \n",
    "    return grouped_descriptive_statistics\n",
    "\n",
    "def select_num_attr(data: pd.DataFrame):\n",
    "    \n",
    "    \"\"\" Get only the numeric part\n",
    "    of a DataFrame.\n",
    "    \n",
    "    Parameters\n",
    "    ----------\n",
    "    data: pd.DataFrame\n",
    "\n",
    "    Returns\n",
    "    ----------\n",
    "    numeric_data: pd.DataFrame\n",
    "    \"\"\"\n",
    "    \n",
    "    return data.select_dtypes(include=['int64', 'float64'])"
   ]
  },
  {
   "cell_type": "markdown",
   "metadata": {
    "heading_collapsed": true
   },
   "source": [
    "## 0. Data Collection and Integration"
   ]
  },
  {
   "cell_type": "markdown",
   "metadata": {
    "heading_collapsed": true,
    "hidden": true
   },
   "source": [
    "### 0.1 Loading Data"
   ]
  },
  {
   "cell_type": "code",
   "execution_count": 5,
   "metadata": {
    "hidden": true
   },
   "outputs": [
    {
     "name": "stdout",
     "output_type": "stream",
     "text": [
      "sample_submission.csv  store.csv  test.csv  train.csv\r\n"
     ]
    }
   ],
   "source": [
    "!ls ../data"
   ]
  },
  {
   "cell_type": "code",
   "execution_count": 6,
   "metadata": {
    "hidden": true
   },
   "outputs": [],
   "source": [
    "sales_df = pd.read_csv('../data/train.csv')\n",
    "stores_df = pd.read_csv('../data/store.csv')"
   ]
  },
  {
   "cell_type": "markdown",
   "metadata": {
    "heading_collapsed": true,
    "hidden": true
   },
   "source": [
    "### 0.2 Merge Sales and Store data"
   ]
  },
  {
   "cell_type": "code",
   "execution_count": 7,
   "metadata": {
    "hidden": true
   },
   "outputs": [],
   "source": [
    "stores_sales_df = pd.merge(sales_df,stores_df, how='left', on='Store')"
   ]
  },
  {
   "cell_type": "markdown",
   "metadata": {
    "heading_collapsed": true,
    "hidden": true
   },
   "source": [
    "### 0.3 General Info"
   ]
  },
  {
   "cell_type": "code",
   "execution_count": 8,
   "metadata": {
    "hidden": true
   },
   "outputs": [
    {
     "data": {
      "text/html": [
       "<div>\n",
       "<style scoped>\n",
       "    .dataframe tbody tr th:only-of-type {\n",
       "        vertical-align: middle;\n",
       "    }\n",
       "\n",
       "    .dataframe tbody tr th {\n",
       "        vertical-align: top;\n",
       "    }\n",
       "\n",
       "    .dataframe thead th {\n",
       "        text-align: right;\n",
       "    }\n",
       "</style>\n",
       "<table border=\"1\" class=\"dataframe\">\n",
       "  <thead>\n",
       "    <tr style=\"text-align: right;\">\n",
       "      <th></th>\n",
       "      <th>Store</th>\n",
       "      <th>DayOfWeek</th>\n",
       "      <th>Date</th>\n",
       "      <th>Sales</th>\n",
       "      <th>Customers</th>\n",
       "      <th>Open</th>\n",
       "      <th>Promo</th>\n",
       "      <th>StateHoliday</th>\n",
       "      <th>SchoolHoliday</th>\n",
       "      <th>StoreType</th>\n",
       "      <th>Assortment</th>\n",
       "      <th>CompetitionDistance</th>\n",
       "      <th>CompetitionOpenSinceMonth</th>\n",
       "      <th>CompetitionOpenSinceYear</th>\n",
       "      <th>Promo2</th>\n",
       "      <th>Promo2SinceWeek</th>\n",
       "      <th>Promo2SinceYear</th>\n",
       "      <th>PromoInterval</th>\n",
       "    </tr>\n",
       "  </thead>\n",
       "  <tbody>\n",
       "    <tr>\n",
       "      <th>0</th>\n",
       "      <td>1</td>\n",
       "      <td>5</td>\n",
       "      <td>2015-07-31</td>\n",
       "      <td>5263</td>\n",
       "      <td>555</td>\n",
       "      <td>1</td>\n",
       "      <td>1</td>\n",
       "      <td>0</td>\n",
       "      <td>1</td>\n",
       "      <td>c</td>\n",
       "      <td>a</td>\n",
       "      <td>1270.00</td>\n",
       "      <td>9.00</td>\n",
       "      <td>2008.00</td>\n",
       "      <td>0</td>\n",
       "      <td>NaN</td>\n",
       "      <td>NaN</td>\n",
       "      <td>NaN</td>\n",
       "    </tr>\n",
       "    <tr>\n",
       "      <th>1</th>\n",
       "      <td>2</td>\n",
       "      <td>5</td>\n",
       "      <td>2015-07-31</td>\n",
       "      <td>6064</td>\n",
       "      <td>625</td>\n",
       "      <td>1</td>\n",
       "      <td>1</td>\n",
       "      <td>0</td>\n",
       "      <td>1</td>\n",
       "      <td>a</td>\n",
       "      <td>a</td>\n",
       "      <td>570.00</td>\n",
       "      <td>11.00</td>\n",
       "      <td>2007.00</td>\n",
       "      <td>1</td>\n",
       "      <td>13.00</td>\n",
       "      <td>2010.00</td>\n",
       "      <td>Jan,Apr,Jul,Oct</td>\n",
       "    </tr>\n",
       "    <tr>\n",
       "      <th>2</th>\n",
       "      <td>3</td>\n",
       "      <td>5</td>\n",
       "      <td>2015-07-31</td>\n",
       "      <td>8314</td>\n",
       "      <td>821</td>\n",
       "      <td>1</td>\n",
       "      <td>1</td>\n",
       "      <td>0</td>\n",
       "      <td>1</td>\n",
       "      <td>a</td>\n",
       "      <td>a</td>\n",
       "      <td>14130.00</td>\n",
       "      <td>12.00</td>\n",
       "      <td>2006.00</td>\n",
       "      <td>1</td>\n",
       "      <td>14.00</td>\n",
       "      <td>2011.00</td>\n",
       "      <td>Jan,Apr,Jul,Oct</td>\n",
       "    </tr>\n",
       "    <tr>\n",
       "      <th>3</th>\n",
       "      <td>4</td>\n",
       "      <td>5</td>\n",
       "      <td>2015-07-31</td>\n",
       "      <td>13995</td>\n",
       "      <td>1498</td>\n",
       "      <td>1</td>\n",
       "      <td>1</td>\n",
       "      <td>0</td>\n",
       "      <td>1</td>\n",
       "      <td>c</td>\n",
       "      <td>c</td>\n",
       "      <td>620.00</td>\n",
       "      <td>9.00</td>\n",
       "      <td>2009.00</td>\n",
       "      <td>0</td>\n",
       "      <td>NaN</td>\n",
       "      <td>NaN</td>\n",
       "      <td>NaN</td>\n",
       "    </tr>\n",
       "    <tr>\n",
       "      <th>4</th>\n",
       "      <td>5</td>\n",
       "      <td>5</td>\n",
       "      <td>2015-07-31</td>\n",
       "      <td>4822</td>\n",
       "      <td>559</td>\n",
       "      <td>1</td>\n",
       "      <td>1</td>\n",
       "      <td>0</td>\n",
       "      <td>1</td>\n",
       "      <td>a</td>\n",
       "      <td>a</td>\n",
       "      <td>29910.00</td>\n",
       "      <td>4.00</td>\n",
       "      <td>2015.00</td>\n",
       "      <td>0</td>\n",
       "      <td>NaN</td>\n",
       "      <td>NaN</td>\n",
       "      <td>NaN</td>\n",
       "    </tr>\n",
       "  </tbody>\n",
       "</table>\n",
       "</div>"
      ],
      "text/plain": [
       "   Store  DayOfWeek        Date  Sales  Customers  Open  Promo StateHoliday  SchoolHoliday StoreType Assortment  CompetitionDistance  CompetitionOpenSinceMonth  CompetitionOpenSinceYear  Promo2  Promo2SinceWeek  Promo2SinceYear    PromoInterval\n",
       "0      1          5  2015-07-31   5263        555     1      1            0              1         c          a              1270.00                       9.00                   2008.00       0              NaN              NaN              NaN\n",
       "1      2          5  2015-07-31   6064        625     1      1            0              1         a          a               570.00                      11.00                   2007.00       1            13.00          2010.00  Jan,Apr,Jul,Oct\n",
       "2      3          5  2015-07-31   8314        821     1      1            0              1         a          a             14130.00                      12.00                   2006.00       1            14.00          2011.00  Jan,Apr,Jul,Oct\n",
       "3      4          5  2015-07-31  13995       1498     1      1            0              1         c          c               620.00                       9.00                   2009.00       0              NaN              NaN              NaN\n",
       "4      5          5  2015-07-31   4822        559     1      1            0              1         a          a             29910.00                       4.00                   2015.00       0              NaN              NaN              NaN"
      ]
     },
     "execution_count": 8,
     "metadata": {},
     "output_type": "execute_result"
    }
   ],
   "source": [
    "stores_sales_df.head()"
   ]
  },
  {
   "cell_type": "code",
   "execution_count": 9,
   "metadata": {
    "hidden": true
   },
   "outputs": [
    {
     "name": "stdout",
     "output_type": "stream",
     "text": [
      "<class 'pandas.core.frame.DataFrame'>\n",
      "Int64Index: 1017209 entries, 0 to 1017208\n",
      "Data columns (total 18 columns):\n",
      " #   Column                     Non-Null Count    Dtype  \n",
      "---  ------                     --------------    -----  \n",
      " 0   Store                      1017209 non-null  int64  \n",
      " 1   DayOfWeek                  1017209 non-null  int64  \n",
      " 2   Date                       1017209 non-null  object \n",
      " 3   Sales                      1017209 non-null  int64  \n",
      " 4   Customers                  1017209 non-null  int64  \n",
      " 5   Open                       1017209 non-null  int64  \n",
      " 6   Promo                      1017209 non-null  int64  \n",
      " 7   StateHoliday               1017209 non-null  object \n",
      " 8   SchoolHoliday              1017209 non-null  int64  \n",
      " 9   StoreType                  1017209 non-null  object \n",
      " 10  Assortment                 1017209 non-null  object \n",
      " 11  CompetitionDistance        1014567 non-null  float64\n",
      " 12  CompetitionOpenSinceMonth  693861 non-null   float64\n",
      " 13  CompetitionOpenSinceYear   693861 non-null   float64\n",
      " 14  Promo2                     1017209 non-null  int64  \n",
      " 15  Promo2SinceWeek            509178 non-null   float64\n",
      " 16  Promo2SinceYear            509178 non-null   float64\n",
      " 17  PromoInterval              509178 non-null   object \n",
      "dtypes: float64(5), int64(8), object(5)\n",
      "memory usage: 147.5+ MB\n"
     ]
    }
   ],
   "source": [
    "stores_sales_df.info()"
   ]
  },
  {
   "cell_type": "code",
   "execution_count": 10,
   "metadata": {
    "hidden": true
   },
   "outputs": [
    {
     "data": {
      "text/html": [
       "<div>\n",
       "<style scoped>\n",
       "    .dataframe tbody tr th:only-of-type {\n",
       "        vertical-align: middle;\n",
       "    }\n",
       "\n",
       "    .dataframe tbody tr th {\n",
       "        vertical-align: top;\n",
       "    }\n",
       "\n",
       "    .dataframe thead th {\n",
       "        text-align: right;\n",
       "    }\n",
       "</style>\n",
       "<table border=\"1\" class=\"dataframe\">\n",
       "  <thead>\n",
       "    <tr style=\"text-align: right;\">\n",
       "      <th></th>\n",
       "      <th>Store</th>\n",
       "      <th>DayOfWeek</th>\n",
       "      <th>Sales</th>\n",
       "      <th>Customers</th>\n",
       "      <th>Open</th>\n",
       "      <th>Promo</th>\n",
       "      <th>SchoolHoliday</th>\n",
       "      <th>CompetitionDistance</th>\n",
       "      <th>CompetitionOpenSinceMonth</th>\n",
       "      <th>CompetitionOpenSinceYear</th>\n",
       "      <th>Promo2</th>\n",
       "      <th>Promo2SinceWeek</th>\n",
       "      <th>Promo2SinceYear</th>\n",
       "    </tr>\n",
       "  </thead>\n",
       "  <tbody>\n",
       "    <tr>\n",
       "      <th>count</th>\n",
       "      <td>1017209.00</td>\n",
       "      <td>1017209.00</td>\n",
       "      <td>1017209.00</td>\n",
       "      <td>1017209.00</td>\n",
       "      <td>1017209.00</td>\n",
       "      <td>1017209.00</td>\n",
       "      <td>1017209.00</td>\n",
       "      <td>1014567.00</td>\n",
       "      <td>693861.00</td>\n",
       "      <td>693861.00</td>\n",
       "      <td>1017209.00</td>\n",
       "      <td>509178.00</td>\n",
       "      <td>509178.00</td>\n",
       "    </tr>\n",
       "    <tr>\n",
       "      <th>mean</th>\n",
       "      <td>558.43</td>\n",
       "      <td>4.00</td>\n",
       "      <td>5773.82</td>\n",
       "      <td>633.15</td>\n",
       "      <td>0.83</td>\n",
       "      <td>0.38</td>\n",
       "      <td>0.18</td>\n",
       "      <td>5430.09</td>\n",
       "      <td>7.22</td>\n",
       "      <td>2008.69</td>\n",
       "      <td>0.50</td>\n",
       "      <td>23.27</td>\n",
       "      <td>2011.75</td>\n",
       "    </tr>\n",
       "    <tr>\n",
       "      <th>std</th>\n",
       "      <td>321.91</td>\n",
       "      <td>2.00</td>\n",
       "      <td>3849.93</td>\n",
       "      <td>464.41</td>\n",
       "      <td>0.38</td>\n",
       "      <td>0.49</td>\n",
       "      <td>0.38</td>\n",
       "      <td>7715.32</td>\n",
       "      <td>3.21</td>\n",
       "      <td>5.99</td>\n",
       "      <td>0.50</td>\n",
       "      <td>14.10</td>\n",
       "      <td>1.66</td>\n",
       "    </tr>\n",
       "    <tr>\n",
       "      <th>min</th>\n",
       "      <td>1.00</td>\n",
       "      <td>1.00</td>\n",
       "      <td>0.00</td>\n",
       "      <td>0.00</td>\n",
       "      <td>0.00</td>\n",
       "      <td>0.00</td>\n",
       "      <td>0.00</td>\n",
       "      <td>20.00</td>\n",
       "      <td>1.00</td>\n",
       "      <td>1900.00</td>\n",
       "      <td>0.00</td>\n",
       "      <td>1.00</td>\n",
       "      <td>2009.00</td>\n",
       "    </tr>\n",
       "    <tr>\n",
       "      <th>25%</th>\n",
       "      <td>280.00</td>\n",
       "      <td>2.00</td>\n",
       "      <td>3727.00</td>\n",
       "      <td>405.00</td>\n",
       "      <td>1.00</td>\n",
       "      <td>0.00</td>\n",
       "      <td>0.00</td>\n",
       "      <td>710.00</td>\n",
       "      <td>4.00</td>\n",
       "      <td>2006.00</td>\n",
       "      <td>0.00</td>\n",
       "      <td>13.00</td>\n",
       "      <td>2011.00</td>\n",
       "    </tr>\n",
       "    <tr>\n",
       "      <th>50%</th>\n",
       "      <td>558.00</td>\n",
       "      <td>4.00</td>\n",
       "      <td>5744.00</td>\n",
       "      <td>609.00</td>\n",
       "      <td>1.00</td>\n",
       "      <td>0.00</td>\n",
       "      <td>0.00</td>\n",
       "      <td>2330.00</td>\n",
       "      <td>8.00</td>\n",
       "      <td>2010.00</td>\n",
       "      <td>1.00</td>\n",
       "      <td>22.00</td>\n",
       "      <td>2012.00</td>\n",
       "    </tr>\n",
       "    <tr>\n",
       "      <th>75%</th>\n",
       "      <td>838.00</td>\n",
       "      <td>6.00</td>\n",
       "      <td>7856.00</td>\n",
       "      <td>837.00</td>\n",
       "      <td>1.00</td>\n",
       "      <td>1.00</td>\n",
       "      <td>0.00</td>\n",
       "      <td>6890.00</td>\n",
       "      <td>10.00</td>\n",
       "      <td>2013.00</td>\n",
       "      <td>1.00</td>\n",
       "      <td>37.00</td>\n",
       "      <td>2013.00</td>\n",
       "    </tr>\n",
       "    <tr>\n",
       "      <th>max</th>\n",
       "      <td>1115.00</td>\n",
       "      <td>7.00</td>\n",
       "      <td>41551.00</td>\n",
       "      <td>7388.00</td>\n",
       "      <td>1.00</td>\n",
       "      <td>1.00</td>\n",
       "      <td>1.00</td>\n",
       "      <td>75860.00</td>\n",
       "      <td>12.00</td>\n",
       "      <td>2015.00</td>\n",
       "      <td>1.00</td>\n",
       "      <td>50.00</td>\n",
       "      <td>2015.00</td>\n",
       "    </tr>\n",
       "  </tbody>\n",
       "</table>\n",
       "</div>"
      ],
      "text/plain": [
       "           Store  DayOfWeek      Sales  Customers       Open      Promo  SchoolHoliday  CompetitionDistance  CompetitionOpenSinceMonth  CompetitionOpenSinceYear     Promo2  Promo2SinceWeek  Promo2SinceYear\n",
       "count 1017209.00 1017209.00 1017209.00 1017209.00 1017209.00 1017209.00     1017209.00           1014567.00                  693861.00                 693861.00 1017209.00        509178.00        509178.00\n",
       "mean      558.43       4.00    5773.82     633.15       0.83       0.38           0.18              5430.09                       7.22                   2008.69       0.50            23.27          2011.75\n",
       "std       321.91       2.00    3849.93     464.41       0.38       0.49           0.38              7715.32                       3.21                      5.99       0.50            14.10             1.66\n",
       "min         1.00       1.00       0.00       0.00       0.00       0.00           0.00                20.00                       1.00                   1900.00       0.00             1.00          2009.00\n",
       "25%       280.00       2.00    3727.00     405.00       1.00       0.00           0.00               710.00                       4.00                   2006.00       0.00            13.00          2011.00\n",
       "50%       558.00       4.00    5744.00     609.00       1.00       0.00           0.00              2330.00                       8.00                   2010.00       1.00            22.00          2012.00\n",
       "75%       838.00       6.00    7856.00     837.00       1.00       1.00           0.00              6890.00                      10.00                   2013.00       1.00            37.00          2013.00\n",
       "max      1115.00       7.00   41551.00    7388.00       1.00       1.00           1.00             75860.00                      12.00                   2015.00       1.00            50.00          2015.00"
      ]
     },
     "execution_count": 10,
     "metadata": {},
     "output_type": "execute_result"
    }
   ],
   "source": [
    "stores_sales_df.describe()"
   ]
  },
  {
   "cell_type": "markdown",
   "metadata": {
    "heading_collapsed": true,
    "hidden": true
   },
   "source": [
    "### 0.4 Rename Columns"
   ]
  },
  {
   "cell_type": "code",
   "execution_count": 11,
   "metadata": {
    "hidden": true
   },
   "outputs": [
    {
     "data": {
      "text/plain": [
       "Index(['store', 'day_of_week', 'date', 'sales', 'customers', 'open', 'promo',\n",
       "       'state_holiday', 'school_holiday', 'store_type', 'assortment',\n",
       "       'competition_distance', 'competition_open_since_month',\n",
       "       'competition_open_since_year', 'promo2', 'promo2_since_week',\n",
       "       'promo2_since_year', 'promo_interval'],\n",
       "      dtype='object')"
      ]
     },
     "execution_count": 11,
     "metadata": {},
     "output_type": "execute_result"
    }
   ],
   "source": [
    "columns = list(stores_sales_df.columns)\n",
    "\n",
    "cols_single_words = [re.findall(\"[A-Z][^A-Z]*\", column) for column in columns]\n",
    "\n",
    "cols_lowercase_words = [list(map(lambda x: x.lower(),column)) for column in cols_single_words]\n",
    "\n",
    "cols_snakecase = ['_'.join(column) for column in cols_lowercase_words]\n",
    "\n",
    "stores_sales_df.columns = cols_snakecase\n",
    "\n",
    "stores_sales_df.columns"
   ]
  },
  {
   "cell_type": "markdown",
   "metadata": {
    "heading_collapsed": true
   },
   "source": [
    "## 1. Exploratory Data Analysis"
   ]
  },
  {
   "cell_type": "code",
   "execution_count": 12,
   "metadata": {
    "hidden": true
   },
   "outputs": [],
   "source": [
    "stores_sales_df_eda = stores_sales_df.copy(deep=True)"
   ]
  },
  {
   "cell_type": "markdown",
   "metadata": {
    "heading_collapsed": true,
    "hidden": true
   },
   "source": [
    "### 1.1 Data Dimensionality"
   ]
  },
  {
   "cell_type": "code",
   "execution_count": 13,
   "metadata": {
    "hidden": true
   },
   "outputs": [
    {
     "name": "stdout",
     "output_type": "stream",
     "text": [
      "Number of Rows:1017209\n",
      "Number of Columns 18\n"
     ]
    }
   ],
   "source": [
    "print('Number of Rows:{}'.format(stores_sales_df_eda.shape[0]))\n",
    "print('Number of Columns {}'.format(stores_sales_df_eda.shape[1]))"
   ]
  },
  {
   "cell_type": "code",
   "execution_count": 14,
   "metadata": {
    "hidden": true
   },
   "outputs": [
    {
     "name": "stdout",
     "output_type": "stream",
     "text": [
      "Number of Unique Stores: 1115\n"
     ]
    }
   ],
   "source": [
    "print(f'Number of Unique Stores: {len(stores_sales_df_eda.store.unique())}')"
   ]
  },
  {
   "cell_type": "markdown",
   "metadata": {
    "heading_collapsed": true,
    "hidden": true
   },
   "source": [
    "### 1.2 Attributes Names and Description"
   ]
  },
  {
   "cell_type": "markdown",
   "metadata": {
    "hidden": true
   },
   "source": [
    "**Store (categorical)** - a unique Id for each store\n",
    "\n",
    "**Assortment (categorical)** - describes an assortment level: a = basic, b = extra, c = extended\n",
    "\n",
    "**Competition Distance (ordered quantitative ratio)** - distance in meters to the nearest competitor store\n",
    "\n",
    "**DayOfWeek (ordered ordinal)** - the day of the week the record was taken\n",
    "\n",
    "**Date (ordered quantitative continuous)** - the current date which an instance was recorded\n",
    "\n",
    "**Sales (ordered ordinal)** - the turnover for any given day\n",
    "\n",
    "**Customers (ordered ordinal)** - the number of customers on a given day\n",
    "\n",
    "**Open (categorical binary asymmetric)** - an indicator for whether the store was open: 0 = closed, 1 = open\n",
    "\n",
    "**Promo (categorical binary asymmetric)** - indicates whether a store is running a promo on that day\n",
    "\n",
    "**StateHoliday (categorical binary asymmetric)** - indicates if there's a state on that day.\n",
    "\n",
    "**SchoolHoliday (categorical binary asymmetric)** - indicates if the (Store, Date) was affected by the closure of public schools"
   ]
  },
  {
   "cell_type": "markdown",
   "metadata": {
    "heading_collapsed": true,
    "hidden": true
   },
   "source": [
    "### 1.3 Data Type conversions"
   ]
  },
  {
   "cell_type": "code",
   "execution_count": 15,
   "metadata": {
    "hidden": true
   },
   "outputs": [
    {
     "data": {
      "text/plain": [
       "dtype('<M8[ns]')"
      ]
     },
     "execution_count": 15,
     "metadata": {},
     "output_type": "execute_result"
    }
   ],
   "source": [
    "stores_sales_df_eda.date = pd.to_datetime(stores_sales_df_eda.date)\n",
    "\n",
    "stores_sales_df_eda.date.dtype"
   ]
  },
  {
   "cell_type": "markdown",
   "metadata": {
    "heading_collapsed": true,
    "hidden": true
   },
   "source": [
    "### 1.4 Attributes Descriptive Statistics (Summary Statistics)"
   ]
  },
  {
   "cell_type": "markdown",
   "metadata": {
    "heading_collapsed": true,
    "hidden": true
   },
   "source": [
    "#### Numerical attributes"
   ]
  },
  {
   "cell_type": "code",
   "execution_count": 18,
   "metadata": {
    "hidden": true
   },
   "outputs": [],
   "source": [
    "num_attr_df = select_num_attr(stores_sales_df_eda)"
   ]
  },
  {
   "cell_type": "code",
   "execution_count": 19,
   "metadata": {
    "hidden": true
   },
   "outputs": [
    {
     "data": {
      "text/html": [
       "<div>\n",
       "<style scoped>\n",
       "    .dataframe tbody tr th:only-of-type {\n",
       "        vertical-align: middle;\n",
       "    }\n",
       "\n",
       "    .dataframe tbody tr th {\n",
       "        vertical-align: top;\n",
       "    }\n",
       "\n",
       "    .dataframe thead th {\n",
       "        text-align: right;\n",
       "    }\n",
       "</style>\n",
       "<table border=\"1\" class=\"dataframe\">\n",
       "  <thead>\n",
       "    <tr style=\"text-align: right;\">\n",
       "      <th></th>\n",
       "      <th>mean</th>\n",
       "      <th>std</th>\n",
       "      <th>minimum</th>\n",
       "      <th>q0</th>\n",
       "      <th>q1</th>\n",
       "      <th>median</th>\n",
       "      <th>q3</th>\n",
       "      <th>q4</th>\n",
       "      <th>maximum</th>\n",
       "      <th>skew</th>\n",
       "      <th>kurtosis</th>\n",
       "    </tr>\n",
       "  </thead>\n",
       "  <tbody>\n",
       "    <tr>\n",
       "      <th>store</th>\n",
       "      <td>558.43</td>\n",
       "      <td>321.91</td>\n",
       "      <td>1.00</td>\n",
       "      <td>-557.00</td>\n",
       "      <td>280.00</td>\n",
       "      <td>558.00</td>\n",
       "      <td>838.00</td>\n",
       "      <td>1675.00</td>\n",
       "      <td>1115.00</td>\n",
       "      <td>-0.00</td>\n",
       "      <td>-1.20</td>\n",
       "    </tr>\n",
       "    <tr>\n",
       "      <th>day_of_week</th>\n",
       "      <td>4.00</td>\n",
       "      <td>2.00</td>\n",
       "      <td>1.00</td>\n",
       "      <td>-4.00</td>\n",
       "      <td>2.00</td>\n",
       "      <td>4.00</td>\n",
       "      <td>6.00</td>\n",
       "      <td>12.00</td>\n",
       "      <td>7.00</td>\n",
       "      <td>0.00</td>\n",
       "      <td>-1.25</td>\n",
       "    </tr>\n",
       "    <tr>\n",
       "      <th>sales</th>\n",
       "      <td>5773.82</td>\n",
       "      <td>3849.93</td>\n",
       "      <td>0.00</td>\n",
       "      <td>-2466.50</td>\n",
       "      <td>3727.00</td>\n",
       "      <td>5744.00</td>\n",
       "      <td>7856.00</td>\n",
       "      <td>14049.50</td>\n",
       "      <td>41551.00</td>\n",
       "      <td>0.64</td>\n",
       "      <td>1.78</td>\n",
       "    </tr>\n",
       "    <tr>\n",
       "      <th>customers</th>\n",
       "      <td>633.15</td>\n",
       "      <td>464.41</td>\n",
       "      <td>0.00</td>\n",
       "      <td>-243.00</td>\n",
       "      <td>405.00</td>\n",
       "      <td>609.00</td>\n",
       "      <td>837.00</td>\n",
       "      <td>1485.00</td>\n",
       "      <td>7388.00</td>\n",
       "      <td>1.60</td>\n",
       "      <td>7.09</td>\n",
       "    </tr>\n",
       "    <tr>\n",
       "      <th>open</th>\n",
       "      <td>0.83</td>\n",
       "      <td>0.38</td>\n",
       "      <td>0.00</td>\n",
       "      <td>1.00</td>\n",
       "      <td>1.00</td>\n",
       "      <td>1.00</td>\n",
       "      <td>1.00</td>\n",
       "      <td>1.00</td>\n",
       "      <td>1.00</td>\n",
       "      <td>-1.76</td>\n",
       "      <td>1.09</td>\n",
       "    </tr>\n",
       "    <tr>\n",
       "      <th>promo</th>\n",
       "      <td>0.38</td>\n",
       "      <td>0.49</td>\n",
       "      <td>0.00</td>\n",
       "      <td>-1.50</td>\n",
       "      <td>0.00</td>\n",
       "      <td>0.00</td>\n",
       "      <td>1.00</td>\n",
       "      <td>2.50</td>\n",
       "      <td>1.00</td>\n",
       "      <td>0.49</td>\n",
       "      <td>-1.76</td>\n",
       "    </tr>\n",
       "    <tr>\n",
       "      <th>school_holiday</th>\n",
       "      <td>0.18</td>\n",
       "      <td>0.38</td>\n",
       "      <td>0.00</td>\n",
       "      <td>0.00</td>\n",
       "      <td>0.00</td>\n",
       "      <td>0.00</td>\n",
       "      <td>0.00</td>\n",
       "      <td>0.00</td>\n",
       "      <td>1.00</td>\n",
       "      <td>1.68</td>\n",
       "      <td>0.82</td>\n",
       "    </tr>\n",
       "    <tr>\n",
       "      <th>competition_distance</th>\n",
       "      <td>5430.09</td>\n",
       "      <td>7715.32</td>\n",
       "      <td>20.00</td>\n",
       "      <td>-8560.00</td>\n",
       "      <td>710.00</td>\n",
       "      <td>2330.00</td>\n",
       "      <td>6890.00</td>\n",
       "      <td>16160.00</td>\n",
       "      <td>75860.00</td>\n",
       "      <td>2.93</td>\n",
       "      <td>13.00</td>\n",
       "    </tr>\n",
       "    <tr>\n",
       "      <th>competition_open_since_month</th>\n",
       "      <td>7.22</td>\n",
       "      <td>3.21</td>\n",
       "      <td>1.00</td>\n",
       "      <td>-5.00</td>\n",
       "      <td>4.00</td>\n",
       "      <td>8.00</td>\n",
       "      <td>10.00</td>\n",
       "      <td>19.00</td>\n",
       "      <td>12.00</td>\n",
       "      <td>-0.17</td>\n",
       "      <td>-1.25</td>\n",
       "    </tr>\n",
       "    <tr>\n",
       "      <th>competition_open_since_year</th>\n",
       "      <td>2008.69</td>\n",
       "      <td>5.99</td>\n",
       "      <td>1900.00</td>\n",
       "      <td>1995.50</td>\n",
       "      <td>2006.00</td>\n",
       "      <td>2010.00</td>\n",
       "      <td>2013.00</td>\n",
       "      <td>2023.50</td>\n",
       "      <td>2015.00</td>\n",
       "      <td>-7.54</td>\n",
       "      <td>121.93</td>\n",
       "    </tr>\n",
       "    <tr>\n",
       "      <th>promo2</th>\n",
       "      <td>0.50</td>\n",
       "      <td>0.50</td>\n",
       "      <td>0.00</td>\n",
       "      <td>-1.50</td>\n",
       "      <td>0.00</td>\n",
       "      <td>1.00</td>\n",
       "      <td>1.00</td>\n",
       "      <td>2.50</td>\n",
       "      <td>1.00</td>\n",
       "      <td>-0.00</td>\n",
       "      <td>-2.00</td>\n",
       "    </tr>\n",
       "    <tr>\n",
       "      <th>promo2_since_week</th>\n",
       "      <td>23.27</td>\n",
       "      <td>14.10</td>\n",
       "      <td>1.00</td>\n",
       "      <td>-23.00</td>\n",
       "      <td>13.00</td>\n",
       "      <td>22.00</td>\n",
       "      <td>37.00</td>\n",
       "      <td>73.00</td>\n",
       "      <td>50.00</td>\n",
       "      <td>0.10</td>\n",
       "      <td>-1.37</td>\n",
       "    </tr>\n",
       "    <tr>\n",
       "      <th>promo2_since_year</th>\n",
       "      <td>2011.75</td>\n",
       "      <td>1.66</td>\n",
       "      <td>2009.00</td>\n",
       "      <td>2008.00</td>\n",
       "      <td>2011.00</td>\n",
       "      <td>2012.00</td>\n",
       "      <td>2013.00</td>\n",
       "      <td>2016.00</td>\n",
       "      <td>2015.00</td>\n",
       "      <td>-0.12</td>\n",
       "      <td>-1.04</td>\n",
       "    </tr>\n",
       "  </tbody>\n",
       "</table>\n",
       "</div>"
      ],
      "text/plain": [
       "                                mean     std  minimum       q0      q1  median      q3       q4  maximum  skew  kurtosis\n",
       "store                         558.43  321.91     1.00  -557.00  280.00  558.00  838.00  1675.00  1115.00 -0.00     -1.20\n",
       "day_of_week                     4.00    2.00     1.00    -4.00    2.00    4.00    6.00    12.00     7.00  0.00     -1.25\n",
       "sales                        5773.82 3849.93     0.00 -2466.50 3727.00 5744.00 7856.00 14049.50 41551.00  0.64      1.78\n",
       "customers                     633.15  464.41     0.00  -243.00  405.00  609.00  837.00  1485.00  7388.00  1.60      7.09\n",
       "open                            0.83    0.38     0.00     1.00    1.00    1.00    1.00     1.00     1.00 -1.76      1.09\n",
       "promo                           0.38    0.49     0.00    -1.50    0.00    0.00    1.00     2.50     1.00  0.49     -1.76\n",
       "school_holiday                  0.18    0.38     0.00     0.00    0.00    0.00    0.00     0.00     1.00  1.68      0.82\n",
       "competition_distance         5430.09 7715.32    20.00 -8560.00  710.00 2330.00 6890.00 16160.00 75860.00  2.93     13.00\n",
       "competition_open_since_month    7.22    3.21     1.00    -5.00    4.00    8.00   10.00    19.00    12.00 -0.17     -1.25\n",
       "competition_open_since_year  2008.69    5.99  1900.00  1995.50 2006.00 2010.00 2013.00  2023.50  2015.00 -7.54    121.93\n",
       "promo2                          0.50    0.50     0.00    -1.50    0.00    1.00    1.00     2.50     1.00 -0.00     -2.00\n",
       "promo2_since_week              23.27   14.10     1.00   -23.00   13.00   22.00   37.00    73.00    50.00  0.10     -1.37\n",
       "promo2_since_year            2011.75    1.66  2009.00  2008.00 2011.00 2012.00 2013.00  2016.00  2015.00 -0.12     -1.04"
      ]
     },
     "execution_count": 19,
     "metadata": {},
     "output_type": "execute_result"
    }
   ],
   "source": [
    "descriptive_stats(num_attr_df)"
   ]
  },
  {
   "cell_type": "code",
   "execution_count": 92,
   "metadata": {
    "hidden": true
   },
   "outputs": [
    {
     "data": {
      "text/html": [
       "<div>\n",
       "<style scoped>\n",
       "    .dataframe tbody tr th:only-of-type {\n",
       "        vertical-align: middle;\n",
       "    }\n",
       "\n",
       "    .dataframe tbody tr th {\n",
       "        vertical-align: top;\n",
       "    }\n",
       "\n",
       "    .dataframe thead th {\n",
       "        text-align: right;\n",
       "    }\n",
       "</style>\n",
       "<table border=\"1\" class=\"dataframe\">\n",
       "  <thead>\n",
       "    <tr style=\"text-align: right;\">\n",
       "      <th></th>\n",
       "      <th>mean</th>\n",
       "      <th>std</th>\n",
       "      <th>minimum</th>\n",
       "      <th>q0</th>\n",
       "      <th>q1</th>\n",
       "      <th>median</th>\n",
       "      <th>q3</th>\n",
       "      <th>q4</th>\n",
       "      <th>maximum</th>\n",
       "      <th>skew</th>\n",
       "      <th>kurtosis</th>\n",
       "    </tr>\n",
       "    <tr>\n",
       "      <th>store</th>\n",
       "      <th></th>\n",
       "      <th></th>\n",
       "      <th></th>\n",
       "      <th></th>\n",
       "      <th></th>\n",
       "      <th></th>\n",
       "      <th></th>\n",
       "      <th></th>\n",
       "      <th></th>\n",
       "      <th></th>\n",
       "      <th></th>\n",
       "    </tr>\n",
       "  </thead>\n",
       "  <tbody>\n",
       "    <tr>\n",
       "      <th>1</th>\n",
       "      <td>3945.70</td>\n",
       "      <td>2015.42</td>\n",
       "      <td>0</td>\n",
       "      <td>1140.62</td>\n",
       "      <td>3588.25</td>\n",
       "      <td>4373.50</td>\n",
       "      <td>5220.00</td>\n",
       "      <td>7667.62</td>\n",
       "      <td>9528</td>\n",
       "      <td>-0.88</td>\n",
       "      <td>0.15</td>\n",
       "    </tr>\n",
       "    <tr>\n",
       "      <th>2</th>\n",
       "      <td>4122.99</td>\n",
       "      <td>2363.63</td>\n",
       "      <td>0</td>\n",
       "      <td>-1689.88</td>\n",
       "      <td>2806.75</td>\n",
       "      <td>4395.50</td>\n",
       "      <td>5804.50</td>\n",
       "      <td>10301.12</td>\n",
       "      <td>10682</td>\n",
       "      <td>-0.31</td>\n",
       "      <td>-0.38</td>\n",
       "    </tr>\n",
       "    <tr>\n",
       "      <th>3</th>\n",
       "      <td>5741.25</td>\n",
       "      <td>3298.78</td>\n",
       "      <td>0</td>\n",
       "      <td>-1610.38</td>\n",
       "      <td>4247.50</td>\n",
       "      <td>5892.00</td>\n",
       "      <td>8152.75</td>\n",
       "      <td>14010.62</td>\n",
       "      <td>15689</td>\n",
       "      <td>-0.33</td>\n",
       "      <td>-0.39</td>\n",
       "    </tr>\n",
       "    <tr>\n",
       "      <th>4</th>\n",
       "      <td>8021.77</td>\n",
       "      <td>4012.59</td>\n",
       "      <td>0</td>\n",
       "      <td>2884.75</td>\n",
       "      <td>7322.50</td>\n",
       "      <td>9062.00</td>\n",
       "      <td>10281.00</td>\n",
       "      <td>14718.75</td>\n",
       "      <td>17412</td>\n",
       "      <td>-0.96</td>\n",
       "      <td>0.25</td>\n",
       "    </tr>\n",
       "    <tr>\n",
       "      <th>5</th>\n",
       "      <td>3867.11</td>\n",
       "      <td>2389.61</td>\n",
       "      <td>0</td>\n",
       "      <td>-3061.38</td>\n",
       "      <td>2027.00</td>\n",
       "      <td>4180.00</td>\n",
       "      <td>5419.25</td>\n",
       "      <td>10507.62</td>\n",
       "      <td>11692</td>\n",
       "      <td>-0.13</td>\n",
       "      <td>-0.56</td>\n",
       "    </tr>\n",
       "    <tr>\n",
       "      <th>...</th>\n",
       "      <td>...</td>\n",
       "      <td>...</td>\n",
       "      <td>...</td>\n",
       "      <td>...</td>\n",
       "      <td>...</td>\n",
       "      <td>...</td>\n",
       "      <td>...</td>\n",
       "      <td>...</td>\n",
       "      <td>...</td>\n",
       "      <td>...</td>\n",
       "      <td>...</td>\n",
       "    </tr>\n",
       "    <tr>\n",
       "      <th>1111</th>\n",
       "      <td>4342.97</td>\n",
       "      <td>2500.01</td>\n",
       "      <td>0</td>\n",
       "      <td>-457.25</td>\n",
       "      <td>3316.75</td>\n",
       "      <td>4614.00</td>\n",
       "      <td>5832.75</td>\n",
       "      <td>9606.75</td>\n",
       "      <td>12492</td>\n",
       "      <td>-0.26</td>\n",
       "      <td>-0.17</td>\n",
       "    </tr>\n",
       "    <tr>\n",
       "      <th>1112</th>\n",
       "      <td>8465.28</td>\n",
       "      <td>4919.93</td>\n",
       "      <td>0</td>\n",
       "      <td>83.88</td>\n",
       "      <td>6780.25</td>\n",
       "      <td>8707.00</td>\n",
       "      <td>11244.50</td>\n",
       "      <td>17940.88</td>\n",
       "      <td>25165</td>\n",
       "      <td>-0.10</td>\n",
       "      <td>0.17</td>\n",
       "    </tr>\n",
       "    <tr>\n",
       "      <th>1113</th>\n",
       "      <td>5516.18</td>\n",
       "      <td>2811.39</td>\n",
       "      <td>0</td>\n",
       "      <td>2174.50</td>\n",
       "      <td>5122.00</td>\n",
       "      <td>6018.50</td>\n",
       "      <td>7087.00</td>\n",
       "      <td>10034.50</td>\n",
       "      <td>16115</td>\n",
       "      <td>-0.77</td>\n",
       "      <td>0.48</td>\n",
       "    </tr>\n",
       "    <tr>\n",
       "      <th>1114</th>\n",
       "      <td>17200.20</td>\n",
       "      <td>8343.05</td>\n",
       "      <td>0</td>\n",
       "      <td>9267.25</td>\n",
       "      <td>16876.00</td>\n",
       "      <td>19556.50</td>\n",
       "      <td>21948.50</td>\n",
       "      <td>29557.25</td>\n",
       "      <td>35697</td>\n",
       "      <td>-1.20</td>\n",
       "      <td>0.38</td>\n",
       "    </tr>\n",
       "    <tr>\n",
       "      <th>1115</th>\n",
       "      <td>5225.30</td>\n",
       "      <td>2847.82</td>\n",
       "      <td>0</td>\n",
       "      <td>-189.75</td>\n",
       "      <td>4161.75</td>\n",
       "      <td>5671.00</td>\n",
       "      <td>7062.75</td>\n",
       "      <td>11414.25</td>\n",
       "      <td>12491</td>\n",
       "      <td>-0.55</td>\n",
       "      <td>-0.21</td>\n",
       "    </tr>\n",
       "  </tbody>\n",
       "</table>\n",
       "<p>1115 rows × 11 columns</p>\n",
       "</div>"
      ],
      "text/plain": [
       "          mean     std  minimum       q0       q1   median       q3       q4  maximum  skew  kurtosis\n",
       "store                                                                                                \n",
       "1      3945.70 2015.42        0  1140.62  3588.25  4373.50  5220.00  7667.62     9528 -0.88      0.15\n",
       "2      4122.99 2363.63        0 -1689.88  2806.75  4395.50  5804.50 10301.12    10682 -0.31     -0.38\n",
       "3      5741.25 3298.78        0 -1610.38  4247.50  5892.00  8152.75 14010.62    15689 -0.33     -0.39\n",
       "4      8021.77 4012.59        0  2884.75  7322.50  9062.00 10281.00 14718.75    17412 -0.96      0.25\n",
       "5      3867.11 2389.61        0 -3061.38  2027.00  4180.00  5419.25 10507.62    11692 -0.13     -0.56\n",
       "...        ...     ...      ...      ...      ...      ...      ...      ...      ...   ...       ...\n",
       "1111   4342.97 2500.01        0  -457.25  3316.75  4614.00  5832.75  9606.75    12492 -0.26     -0.17\n",
       "1112   8465.28 4919.93        0    83.88  6780.25  8707.00 11244.50 17940.88    25165 -0.10      0.17\n",
       "1113   5516.18 2811.39        0  2174.50  5122.00  6018.50  7087.00 10034.50    16115 -0.77      0.48\n",
       "1114  17200.20 8343.05        0  9267.25 16876.00 19556.50 21948.50 29557.25    35697 -1.20      0.38\n",
       "1115   5225.30 2847.82        0  -189.75  4161.75  5671.00  7062.75 11414.25    12491 -0.55     -0.21\n",
       "\n",
       "[1115 rows x 11 columns]"
      ]
     },
     "execution_count": 92,
     "metadata": {},
     "output_type": "execute_result"
    }
   ],
   "source": [
    "group_descriptive_stats(num_attr_df,'store','sales')"
   ]
  },
  {
   "cell_type": "markdown",
   "metadata": {
    "hidden": true
   },
   "source": [
    "##### Statistical Interpretation \n",
    "\n",
    "Interpret each attribute central tendency, dispersion:\n",
    "\n",
    "**sales** - I can say that daily sales can range between 0$ and 41551$ (considering all stores). Then I can conclude that 25\\% of the daily sales records (considering all stores) has a total equal or less than 3727$, up t0 50\\%  of the records got 5744\\% of dailyt sales or less, and 75\\% makes at least 7856\\%. Comparing the mean and median I can conclude that the sales distribution is near to a normal, since the mean minus the median is equal to (5773.82 - 5744.00 = 29.82) and the skew is almost 0. The kurtosis and standard deviation points out that the sales dispersion is not high, so it concentrates a lot around the median, and since the kurtosis is near to 3 but below, it means that its almost a dispersion of a normal distribution and it confirms that it has a light tailed distribution, i.e. it hasn't many outliers.\n",
    "\n",
    "**customers** -"
   ]
  },
  {
   "cell_type": "markdown",
   "metadata": {
    "heading_collapsed": true,
    "hidden": true
   },
   "source": [
    "#### Categorical Attributes"
   ]
  },
  {
   "cell_type": "code",
   "execution_count": 82,
   "metadata": {
    "hidden": true
   },
   "outputs": [
    {
     "data": {
      "text/plain": [
       "date              942\n",
       "state_holiday       5\n",
       "store_type          4\n",
       "assortment          3\n",
       "promo_interval      4\n",
       "dtype: int64"
      ]
     },
     "execution_count": 82,
     "metadata": {},
     "output_type": "execute_result"
    }
   ],
   "source": [
    "cat_attr_df = stores_sales_df_eda.select_dtypes(exclude='number')\n",
    "\n",
    "cat_attr_df.apply(lambda x: x.unique().shape[0])"
   ]
  },
  {
   "cell_type": "code",
   "execution_count": 85,
   "metadata": {
    "hidden": true
   },
   "outputs": [
    {
     "data": {
      "text/plain": [
       "array(['0', 'a', 'b', 'c', 0], dtype=object)"
      ]
     },
     "execution_count": 85,
     "metadata": {},
     "output_type": "execute_result"
    }
   ],
   "source": [
    "cat_attr_df.state_holiday.unique()"
   ]
  },
  {
   "cell_type": "code",
   "execution_count": 91,
   "metadata": {
    "hidden": true
   },
   "outputs": [
    {
     "data": {
      "text/plain": [
       "[Text(0, 0, 'Jan,Apr,Jul,Oct'),\n",
       " Text(1, 0, 'Mar,Jun,Sept,Dec'),\n",
       " Text(2, 0, 'Feb,May,Aug,Nov')]"
      ]
     },
     "execution_count": 91,
     "metadata": {},
     "output_type": "execute_result"
    },
    {
     "data": {
      "image/png": "[encoded data removed]",
      "text/plain": [
       "<Figure size 1440x864 with 4 Axes>"
      ]
     },
     "metadata": {},
     "output_type": "display_data"
    }
   ],
   "source": [
    "# to get a better interpretation of selling distribution and boxplot I must filter the daily records from when the store was closed during the week and the state holidays\n",
    "opened_days_records = stores_sales_df_eda.loc[(stores_sales_df_eda.state_holiday != '0') & (stores_sales_df_eda.state_holiday != 0) & (stores_sales_df_eda.sales > 0)] \n",
    "\n",
    "plt.subplot(1, 4, 1)\n",
    "ax1 = sns.boxplot(x='state_holiday', y='sales', data=opened_days_records)\n",
    "\n",
    "plt.subplot(1, 4, 2)\n",
    "ax2 = sns.boxplot(x='store_type', y='sales', data=opened_days_records)\n",
    "\n",
    "plt.subplot(1, 4, 3)\n",
    "ax3 = sns.boxplot(x='assortment', y='sales', data=opened_days_records)\n",
    "\n",
    "plt.subplot(1, 4, 4)\n",
    "ax4 = sns.boxplot(x='promo_interval', y='sales', data=opened_days_records)\n",
    "ax4.set_xticklabels(ax4.get_xticklabels(),rotation=45)"
   ]
  },
  {
   "cell_type": "markdown",
   "metadata": {
    "hidden": true
   },
   "source": [
    "##### Statistical Interpretation \n",
    "\n",
    "Interpret each attribute central tendency, dispersion:\n",
    "\n",
    "**store_type** - 25% of the stores of store_type b have already higher daily sales than the other ones.\n",
    "\n",
    "**assortment** - 25% of the stores of assortment type b have already higher daily sales than the other assortments, so extra products seems to have more purchases or the value can be higher (confirm)"
   ]
  },
  {
   "cell_type": "markdown",
   "metadata": {
    "heading_collapsed": true,
    "hidden": true
   },
   "source": [
    "### 1.5 Identify missing values and Duplicated records"
   ]
  },
  {
   "cell_type": "markdown",
   "metadata": {
    "heading_collapsed": true,
    "hidden": true
   },
   "source": [
    "#### Missing Values"
   ]
  },
  {
   "cell_type": "code",
   "execution_count": 20,
   "metadata": {
    "cell_style": "split",
    "hidden": true,
    "scrolled": true
   },
   "outputs": [
    {
     "data": {
      "text/plain": [
       "store                                0\n",
       "day_of_week                          0\n",
       "date                                 0\n",
       "sales                                0\n",
       "customers                            0\n",
       "open                                 0\n",
       "promo                                0\n",
       "state_holiday                        0\n",
       "school_holiday                       0\n",
       "store_type                           0\n",
       "assortment                           0\n",
       "competition_distance              2642\n",
       "competition_open_since_month    323348\n",
       "competition_open_since_year     323348\n",
       "promo2                               0\n",
       "promo2_since_week               508031\n",
       "promo2_since_year               508031\n",
       "promo_interval                  508031\n",
       "dtype: int64"
      ]
     },
     "execution_count": 20,
     "metadata": {},
     "output_type": "execute_result"
    }
   ],
   "source": [
    "stores_sales_df_eda.isna().sum()"
   ]
  },
  {
   "cell_type": "code",
   "execution_count": 21,
   "metadata": {
    "cell_style": "split",
    "hidden": true
   },
   "outputs": [
    {
     "data": {
      "text/plain": [
       "store                           0.00\n",
       "day_of_week                     0.00\n",
       "date                            0.00\n",
       "sales                           0.00\n",
       "customers                       0.00\n",
       "open                            0.00\n",
       "promo                           0.00\n",
       "state_holiday                   0.00\n",
       "school_holiday                  0.00\n",
       "store_type                      0.00\n",
       "assortment                      0.00\n",
       "competition_distance            0.26\n",
       "competition_open_since_month   31.79\n",
       "competition_open_since_year    31.79\n",
       "promo2                          0.00\n",
       "promo2_since_week              49.94\n",
       "promo2_since_year              49.94\n",
       "promo_interval                 49.94\n",
       "dtype: float64"
      ]
     },
     "execution_count": 21,
     "metadata": {},
     "output_type": "execute_result"
    }
   ],
   "source": [
    "(stores_sales_df_eda.isna().sum()/len(stores_sales_df_eda))*100"
   ]
  },
  {
   "cell_type": "markdown",
   "metadata": {
    "hidden": true
   },
   "source": [
    "##### Get missing values per store\n",
    "\n",
    "To evaluate which strategy to use on missing values. Since the missing values may be originated only by some stores out of the 1115 stores, which could be irrelevant and this records could be discarded. \n",
    "\n",
    "Or in the case it is a generalized presence on all stores data attributes, I can then identify if the percentage of missing values is very high on some specific attributeS, and this attributes may not be relevant anymore. \n",
    "\n",
    "If the percentage is not so high we can apply an imputation or replacement strategy."
   ]
  },
  {
   "cell_type": "code",
   "execution_count": 22,
   "metadata": {
    "hidden": true
   },
   "outputs": [
    {
     "data": {
      "text/html": [
       "<div>\n",
       "<style scoped>\n",
       "    .dataframe tbody tr th:only-of-type {\n",
       "        vertical-align: middle;\n",
       "    }\n",
       "\n",
       "    .dataframe tbody tr th {\n",
       "        vertical-align: top;\n",
       "    }\n",
       "\n",
       "    .dataframe thead th {\n",
       "        text-align: right;\n",
       "    }\n",
       "</style>\n",
       "<table border=\"1\" class=\"dataframe\">\n",
       "  <thead>\n",
       "    <tr style=\"text-align: right;\">\n",
       "      <th></th>\n",
       "      <th>day_of_week</th>\n",
       "      <th>date</th>\n",
       "      <th>sales</th>\n",
       "      <th>customers</th>\n",
       "      <th>open</th>\n",
       "      <th>promo</th>\n",
       "      <th>state_holiday</th>\n",
       "      <th>school_holiday</th>\n",
       "      <th>store_type</th>\n",
       "      <th>assortment</th>\n",
       "      <th>competition_distance</th>\n",
       "      <th>competition_open_since_month</th>\n",
       "      <th>competition_open_since_year</th>\n",
       "      <th>promo2</th>\n",
       "      <th>promo2_since_week</th>\n",
       "      <th>promo2_since_year</th>\n",
       "      <th>promo_interval</th>\n",
       "    </tr>\n",
       "    <tr>\n",
       "      <th>store</th>\n",
       "      <th></th>\n",
       "      <th></th>\n",
       "      <th></th>\n",
       "      <th></th>\n",
       "      <th></th>\n",
       "      <th></th>\n",
       "      <th></th>\n",
       "      <th></th>\n",
       "      <th></th>\n",
       "      <th></th>\n",
       "      <th></th>\n",
       "      <th></th>\n",
       "      <th></th>\n",
       "      <th></th>\n",
       "      <th></th>\n",
       "      <th></th>\n",
       "      <th></th>\n",
       "    </tr>\n",
       "  </thead>\n",
       "  <tbody>\n",
       "    <tr>\n",
       "      <th>1</th>\n",
       "      <td>942</td>\n",
       "      <td>942</td>\n",
       "      <td>942</td>\n",
       "      <td>942</td>\n",
       "      <td>942</td>\n",
       "      <td>942</td>\n",
       "      <td>942</td>\n",
       "      <td>942</td>\n",
       "      <td>942</td>\n",
       "      <td>942</td>\n",
       "      <td>942</td>\n",
       "      <td>942</td>\n",
       "      <td>942</td>\n",
       "      <td>942</td>\n",
       "      <td>0</td>\n",
       "      <td>0</td>\n",
       "      <td>0</td>\n",
       "    </tr>\n",
       "    <tr>\n",
       "      <th>2</th>\n",
       "      <td>942</td>\n",
       "      <td>942</td>\n",
       "      <td>942</td>\n",
       "      <td>942</td>\n",
       "      <td>942</td>\n",
       "      <td>942</td>\n",
       "      <td>942</td>\n",
       "      <td>942</td>\n",
       "      <td>942</td>\n",
       "      <td>942</td>\n",
       "      <td>942</td>\n",
       "      <td>942</td>\n",
       "      <td>942</td>\n",
       "      <td>942</td>\n",
       "      <td>942</td>\n",
       "      <td>942</td>\n",
       "      <td>942</td>\n",
       "    </tr>\n",
       "    <tr>\n",
       "      <th>3</th>\n",
       "      <td>942</td>\n",
       "      <td>942</td>\n",
       "      <td>942</td>\n",
       "      <td>942</td>\n",
       "      <td>942</td>\n",
       "      <td>942</td>\n",
       "      <td>942</td>\n",
       "      <td>942</td>\n",
       "      <td>942</td>\n",
       "      <td>942</td>\n",
       "      <td>942</td>\n",
       "      <td>942</td>\n",
       "      <td>942</td>\n",
       "      <td>942</td>\n",
       "      <td>942</td>\n",
       "      <td>942</td>\n",
       "      <td>942</td>\n",
       "    </tr>\n",
       "    <tr>\n",
       "      <th>4</th>\n",
       "      <td>942</td>\n",
       "      <td>942</td>\n",
       "      <td>942</td>\n",
       "      <td>942</td>\n",
       "      <td>942</td>\n",
       "      <td>942</td>\n",
       "      <td>942</td>\n",
       "      <td>942</td>\n",
       "      <td>942</td>\n",
       "      <td>942</td>\n",
       "      <td>942</td>\n",
       "      <td>942</td>\n",
       "      <td>942</td>\n",
       "      <td>942</td>\n",
       "      <td>0</td>\n",
       "      <td>0</td>\n",
       "      <td>0</td>\n",
       "    </tr>\n",
       "    <tr>\n",
       "      <th>5</th>\n",
       "      <td>942</td>\n",
       "      <td>942</td>\n",
       "      <td>942</td>\n",
       "      <td>942</td>\n",
       "      <td>942</td>\n",
       "      <td>942</td>\n",
       "      <td>942</td>\n",
       "      <td>942</td>\n",
       "      <td>942</td>\n",
       "      <td>942</td>\n",
       "      <td>942</td>\n",
       "      <td>942</td>\n",
       "      <td>942</td>\n",
       "      <td>942</td>\n",
       "      <td>0</td>\n",
       "      <td>0</td>\n",
       "      <td>0</td>\n",
       "    </tr>\n",
       "    <tr>\n",
       "      <th>...</th>\n",
       "      <td>...</td>\n",
       "      <td>...</td>\n",
       "      <td>...</td>\n",
       "      <td>...</td>\n",
       "      <td>...</td>\n",
       "      <td>...</td>\n",
       "      <td>...</td>\n",
       "      <td>...</td>\n",
       "      <td>...</td>\n",
       "      <td>...</td>\n",
       "      <td>...</td>\n",
       "      <td>...</td>\n",
       "      <td>...</td>\n",
       "      <td>...</td>\n",
       "      <td>...</td>\n",
       "      <td>...</td>\n",
       "      <td>...</td>\n",
       "    </tr>\n",
       "    <tr>\n",
       "      <th>1111</th>\n",
       "      <td>942</td>\n",
       "      <td>942</td>\n",
       "      <td>942</td>\n",
       "      <td>942</td>\n",
       "      <td>942</td>\n",
       "      <td>942</td>\n",
       "      <td>942</td>\n",
       "      <td>942</td>\n",
       "      <td>942</td>\n",
       "      <td>942</td>\n",
       "      <td>942</td>\n",
       "      <td>942</td>\n",
       "      <td>942</td>\n",
       "      <td>942</td>\n",
       "      <td>942</td>\n",
       "      <td>942</td>\n",
       "      <td>942</td>\n",
       "    </tr>\n",
       "    <tr>\n",
       "      <th>1112</th>\n",
       "      <td>942</td>\n",
       "      <td>942</td>\n",
       "      <td>942</td>\n",
       "      <td>942</td>\n",
       "      <td>942</td>\n",
       "      <td>942</td>\n",
       "      <td>942</td>\n",
       "      <td>942</td>\n",
       "      <td>942</td>\n",
       "      <td>942</td>\n",
       "      <td>942</td>\n",
       "      <td>942</td>\n",
       "      <td>942</td>\n",
       "      <td>942</td>\n",
       "      <td>0</td>\n",
       "      <td>0</td>\n",
       "      <td>0</td>\n",
       "    </tr>\n",
       "    <tr>\n",
       "      <th>1113</th>\n",
       "      <td>942</td>\n",
       "      <td>942</td>\n",
       "      <td>942</td>\n",
       "      <td>942</td>\n",
       "      <td>942</td>\n",
       "      <td>942</td>\n",
       "      <td>942</td>\n",
       "      <td>942</td>\n",
       "      <td>942</td>\n",
       "      <td>942</td>\n",
       "      <td>942</td>\n",
       "      <td>0</td>\n",
       "      <td>0</td>\n",
       "      <td>942</td>\n",
       "      <td>0</td>\n",
       "      <td>0</td>\n",
       "      <td>0</td>\n",
       "    </tr>\n",
       "    <tr>\n",
       "      <th>1114</th>\n",
       "      <td>942</td>\n",
       "      <td>942</td>\n",
       "      <td>942</td>\n",
       "      <td>942</td>\n",
       "      <td>942</td>\n",
       "      <td>942</td>\n",
       "      <td>942</td>\n",
       "      <td>942</td>\n",
       "      <td>942</td>\n",
       "      <td>942</td>\n",
       "      <td>942</td>\n",
       "      <td>0</td>\n",
       "      <td>0</td>\n",
       "      <td>942</td>\n",
       "      <td>0</td>\n",
       "      <td>0</td>\n",
       "      <td>0</td>\n",
       "    </tr>\n",
       "    <tr>\n",
       "      <th>1115</th>\n",
       "      <td>942</td>\n",
       "      <td>942</td>\n",
       "      <td>942</td>\n",
       "      <td>942</td>\n",
       "      <td>942</td>\n",
       "      <td>942</td>\n",
       "      <td>942</td>\n",
       "      <td>942</td>\n",
       "      <td>942</td>\n",
       "      <td>942</td>\n",
       "      <td>942</td>\n",
       "      <td>0</td>\n",
       "      <td>0</td>\n",
       "      <td>942</td>\n",
       "      <td>942</td>\n",
       "      <td>942</td>\n",
       "      <td>942</td>\n",
       "    </tr>\n",
       "  </tbody>\n",
       "</table>\n",
       "<p>1115 rows × 17 columns</p>\n",
       "</div>"
      ],
      "text/plain": [
       "       day_of_week  date  sales  customers  open  promo  state_holiday  school_holiday  store_type  assortment  competition_distance  competition_open_since_month  competition_open_since_year  promo2  promo2_since_week  promo2_since_year  promo_interval\n",
       "store                                                                                                                                                                                                                                                        \n",
       "1              942   942    942        942   942    942            942             942         942         942                   942                           942                          942     942                  0                  0               0\n",
       "2              942   942    942        942   942    942            942             942         942         942                   942                           942                          942     942                942                942             942\n",
       "3              942   942    942        942   942    942            942             942         942         942                   942                           942                          942     942                942                942             942\n",
       "4              942   942    942        942   942    942            942             942         942         942                   942                           942                          942     942                  0                  0               0\n",
       "5              942   942    942        942   942    942            942             942         942         942                   942                           942                          942     942                  0                  0               0\n",
       "...            ...   ...    ...        ...   ...    ...            ...             ...         ...         ...                   ...                           ...                          ...     ...                ...                ...             ...\n",
       "1111           942   942    942        942   942    942            942             942         942         942                   942                           942                          942     942                942                942             942\n",
       "1112           942   942    942        942   942    942            942             942         942         942                   942                           942                          942     942                  0                  0               0\n",
       "1113           942   942    942        942   942    942            942             942         942         942                   942                             0                            0     942                  0                  0               0\n",
       "1114           942   942    942        942   942    942            942             942         942         942                   942                             0                            0     942                  0                  0               0\n",
       "1115           942   942    942        942   942    942            942             942         942         942                   942                             0                            0     942                942                942             942\n",
       "\n",
       "[1115 rows x 17 columns]"
      ]
     },
     "execution_count": 22,
     "metadata": {},
     "output_type": "execute_result"
    }
   ],
   "source": [
    "store_agg = stores_sales_df_eda.groupby(by='store')\n",
    "\n",
    "count_na = store_agg.count()\n",
    "\n",
    "count_na"
   ]
  },
  {
   "cell_type": "code",
   "execution_count": 23,
   "metadata": {
    "hidden": true
   },
   "outputs": [
    {
     "data": {
      "text/html": [
       "<div>\n",
       "<style scoped>\n",
       "    .dataframe tbody tr th:only-of-type {\n",
       "        vertical-align: middle;\n",
       "    }\n",
       "\n",
       "    .dataframe tbody tr th {\n",
       "        vertical-align: top;\n",
       "    }\n",
       "\n",
       "    .dataframe thead th {\n",
       "        text-align: right;\n",
       "    }\n",
       "</style>\n",
       "<table border=\"1\" class=\"dataframe\">\n",
       "  <thead>\n",
       "    <tr style=\"text-align: right;\">\n",
       "      <th></th>\n",
       "      <th>day_of_week</th>\n",
       "      <th>date</th>\n",
       "      <th>sales</th>\n",
       "      <th>customers</th>\n",
       "      <th>open</th>\n",
       "      <th>promo</th>\n",
       "      <th>state_holiday</th>\n",
       "      <th>school_holiday</th>\n",
       "      <th>store_type</th>\n",
       "      <th>assortment</th>\n",
       "      <th>competition_distance</th>\n",
       "      <th>competition_open_since_month</th>\n",
       "      <th>competition_open_since_year</th>\n",
       "      <th>promo2</th>\n",
       "      <th>promo2_since_week</th>\n",
       "      <th>promo2_since_year</th>\n",
       "      <th>promo_interval</th>\n",
       "    </tr>\n",
       "    <tr>\n",
       "      <th>store</th>\n",
       "      <th></th>\n",
       "      <th></th>\n",
       "      <th></th>\n",
       "      <th></th>\n",
       "      <th></th>\n",
       "      <th></th>\n",
       "      <th></th>\n",
       "      <th></th>\n",
       "      <th></th>\n",
       "      <th></th>\n",
       "      <th></th>\n",
       "      <th></th>\n",
       "      <th></th>\n",
       "      <th></th>\n",
       "      <th></th>\n",
       "      <th></th>\n",
       "      <th></th>\n",
       "    </tr>\n",
       "  </thead>\n",
       "  <tbody>\n",
       "    <tr>\n",
       "      <th>1</th>\n",
       "      <td>100.00</td>\n",
       "      <td>100.00</td>\n",
       "      <td>100.00</td>\n",
       "      <td>100.00</td>\n",
       "      <td>100.00</td>\n",
       "      <td>100.00</td>\n",
       "      <td>100.00</td>\n",
       "      <td>100.00</td>\n",
       "      <td>100.00</td>\n",
       "      <td>100.00</td>\n",
       "      <td>100.00</td>\n",
       "      <td>100.00</td>\n",
       "      <td>100.00</td>\n",
       "      <td>100.00</td>\n",
       "      <td>NaN</td>\n",
       "      <td>NaN</td>\n",
       "      <td>NaN</td>\n",
       "    </tr>\n",
       "    <tr>\n",
       "      <th>4</th>\n",
       "      <td>100.00</td>\n",
       "      <td>100.00</td>\n",
       "      <td>100.00</td>\n",
       "      <td>100.00</td>\n",
       "      <td>100.00</td>\n",
       "      <td>100.00</td>\n",
       "      <td>100.00</td>\n",
       "      <td>100.00</td>\n",
       "      <td>100.00</td>\n",
       "      <td>100.00</td>\n",
       "      <td>100.00</td>\n",
       "      <td>100.00</td>\n",
       "      <td>100.00</td>\n",
       "      <td>100.00</td>\n",
       "      <td>NaN</td>\n",
       "      <td>NaN</td>\n",
       "      <td>NaN</td>\n",
       "    </tr>\n",
       "    <tr>\n",
       "      <th>5</th>\n",
       "      <td>100.00</td>\n",
       "      <td>100.00</td>\n",
       "      <td>100.00</td>\n",
       "      <td>100.00</td>\n",
       "      <td>100.00</td>\n",
       "      <td>100.00</td>\n",
       "      <td>100.00</td>\n",
       "      <td>100.00</td>\n",
       "      <td>100.00</td>\n",
       "      <td>100.00</td>\n",
       "      <td>100.00</td>\n",
       "      <td>100.00</td>\n",
       "      <td>100.00</td>\n",
       "      <td>100.00</td>\n",
       "      <td>NaN</td>\n",
       "      <td>NaN</td>\n",
       "      <td>NaN</td>\n",
       "    </tr>\n",
       "    <tr>\n",
       "      <th>6</th>\n",
       "      <td>100.00</td>\n",
       "      <td>100.00</td>\n",
       "      <td>100.00</td>\n",
       "      <td>100.00</td>\n",
       "      <td>100.00</td>\n",
       "      <td>100.00</td>\n",
       "      <td>100.00</td>\n",
       "      <td>100.00</td>\n",
       "      <td>100.00</td>\n",
       "      <td>100.00</td>\n",
       "      <td>100.00</td>\n",
       "      <td>100.00</td>\n",
       "      <td>100.00</td>\n",
       "      <td>100.00</td>\n",
       "      <td>NaN</td>\n",
       "      <td>NaN</td>\n",
       "      <td>NaN</td>\n",
       "    </tr>\n",
       "    <tr>\n",
       "      <th>7</th>\n",
       "      <td>100.00</td>\n",
       "      <td>100.00</td>\n",
       "      <td>100.00</td>\n",
       "      <td>100.00</td>\n",
       "      <td>100.00</td>\n",
       "      <td>100.00</td>\n",
       "      <td>100.00</td>\n",
       "      <td>100.00</td>\n",
       "      <td>100.00</td>\n",
       "      <td>100.00</td>\n",
       "      <td>100.00</td>\n",
       "      <td>100.00</td>\n",
       "      <td>100.00</td>\n",
       "      <td>100.00</td>\n",
       "      <td>NaN</td>\n",
       "      <td>NaN</td>\n",
       "      <td>NaN</td>\n",
       "    </tr>\n",
       "    <tr>\n",
       "      <th>...</th>\n",
       "      <td>...</td>\n",
       "      <td>...</td>\n",
       "      <td>...</td>\n",
       "      <td>...</td>\n",
       "      <td>...</td>\n",
       "      <td>...</td>\n",
       "      <td>...</td>\n",
       "      <td>...</td>\n",
       "      <td>...</td>\n",
       "      <td>...</td>\n",
       "      <td>...</td>\n",
       "      <td>...</td>\n",
       "      <td>...</td>\n",
       "      <td>...</td>\n",
       "      <td>...</td>\n",
       "      <td>...</td>\n",
       "      <td>...</td>\n",
       "    </tr>\n",
       "    <tr>\n",
       "      <th>1110</th>\n",
       "      <td>100.00</td>\n",
       "      <td>100.00</td>\n",
       "      <td>100.00</td>\n",
       "      <td>100.00</td>\n",
       "      <td>100.00</td>\n",
       "      <td>100.00</td>\n",
       "      <td>100.00</td>\n",
       "      <td>100.00</td>\n",
       "      <td>100.00</td>\n",
       "      <td>100.00</td>\n",
       "      <td>100.00</td>\n",
       "      <td>100.00</td>\n",
       "      <td>100.00</td>\n",
       "      <td>100.00</td>\n",
       "      <td>NaN</td>\n",
       "      <td>NaN</td>\n",
       "      <td>NaN</td>\n",
       "    </tr>\n",
       "    <tr>\n",
       "      <th>1112</th>\n",
       "      <td>100.00</td>\n",
       "      <td>100.00</td>\n",
       "      <td>100.00</td>\n",
       "      <td>100.00</td>\n",
       "      <td>100.00</td>\n",
       "      <td>100.00</td>\n",
       "      <td>100.00</td>\n",
       "      <td>100.00</td>\n",
       "      <td>100.00</td>\n",
       "      <td>100.00</td>\n",
       "      <td>100.00</td>\n",
       "      <td>100.00</td>\n",
       "      <td>100.00</td>\n",
       "      <td>100.00</td>\n",
       "      <td>NaN</td>\n",
       "      <td>NaN</td>\n",
       "      <td>NaN</td>\n",
       "    </tr>\n",
       "    <tr>\n",
       "      <th>1113</th>\n",
       "      <td>100.00</td>\n",
       "      <td>100.00</td>\n",
       "      <td>100.00</td>\n",
       "      <td>100.00</td>\n",
       "      <td>100.00</td>\n",
       "      <td>100.00</td>\n",
       "      <td>100.00</td>\n",
       "      <td>100.00</td>\n",
       "      <td>100.00</td>\n",
       "      <td>100.00</td>\n",
       "      <td>100.00</td>\n",
       "      <td>0.00</td>\n",
       "      <td>0.00</td>\n",
       "      <td>100.00</td>\n",
       "      <td>NaN</td>\n",
       "      <td>NaN</td>\n",
       "      <td>NaN</td>\n",
       "    </tr>\n",
       "    <tr>\n",
       "      <th>1114</th>\n",
       "      <td>100.00</td>\n",
       "      <td>100.00</td>\n",
       "      <td>100.00</td>\n",
       "      <td>100.00</td>\n",
       "      <td>100.00</td>\n",
       "      <td>100.00</td>\n",
       "      <td>100.00</td>\n",
       "      <td>100.00</td>\n",
       "      <td>100.00</td>\n",
       "      <td>100.00</td>\n",
       "      <td>100.00</td>\n",
       "      <td>0.00</td>\n",
       "      <td>0.00</td>\n",
       "      <td>100.00</td>\n",
       "      <td>NaN</td>\n",
       "      <td>NaN</td>\n",
       "      <td>NaN</td>\n",
       "    </tr>\n",
       "    <tr>\n",
       "      <th>1115</th>\n",
       "      <td>100.00</td>\n",
       "      <td>100.00</td>\n",
       "      <td>100.00</td>\n",
       "      <td>100.00</td>\n",
       "      <td>100.00</td>\n",
       "      <td>100.00</td>\n",
       "      <td>100.00</td>\n",
       "      <td>100.00</td>\n",
       "      <td>100.00</td>\n",
       "      <td>100.00</td>\n",
       "      <td>100.00</td>\n",
       "      <td>0.00</td>\n",
       "      <td>0.00</td>\n",
       "      <td>100.00</td>\n",
       "      <td>inf</td>\n",
       "      <td>inf</td>\n",
       "      <td>inf</td>\n",
       "    </tr>\n",
       "  </tbody>\n",
       "</table>\n",
       "<p>856 rows × 17 columns</p>\n",
       "</div>"
      ],
      "text/plain": [
       "       day_of_week   date  sales  customers   open  promo  state_holiday  school_holiday  store_type  assortment  competition_distance  competition_open_since_month  competition_open_since_year  promo2  promo2_since_week  promo2_since_year  promo_interval\n",
       "store                                                                                                                                                                                                                                                          \n",
       "1           100.00 100.00 100.00     100.00 100.00 100.00         100.00          100.00      100.00      100.00                100.00                        100.00                       100.00  100.00                NaN                NaN             NaN\n",
       "4           100.00 100.00 100.00     100.00 100.00 100.00         100.00          100.00      100.00      100.00                100.00                        100.00                       100.00  100.00                NaN                NaN             NaN\n",
       "5           100.00 100.00 100.00     100.00 100.00 100.00         100.00          100.00      100.00      100.00                100.00                        100.00                       100.00  100.00                NaN                NaN             NaN\n",
       "6           100.00 100.00 100.00     100.00 100.00 100.00         100.00          100.00      100.00      100.00                100.00                        100.00                       100.00  100.00                NaN                NaN             NaN\n",
       "7           100.00 100.00 100.00     100.00 100.00 100.00         100.00          100.00      100.00      100.00                100.00                        100.00                       100.00  100.00                NaN                NaN             NaN\n",
       "...            ...    ...    ...        ...    ...    ...            ...             ...         ...         ...                   ...                           ...                          ...     ...                ...                ...             ...\n",
       "1110        100.00 100.00 100.00     100.00 100.00 100.00         100.00          100.00      100.00      100.00                100.00                        100.00                       100.00  100.00                NaN                NaN             NaN\n",
       "1112        100.00 100.00 100.00     100.00 100.00 100.00         100.00          100.00      100.00      100.00                100.00                        100.00                       100.00  100.00                NaN                NaN             NaN\n",
       "1113        100.00 100.00 100.00     100.00 100.00 100.00         100.00          100.00      100.00      100.00                100.00                          0.00                         0.00  100.00                NaN                NaN             NaN\n",
       "1114        100.00 100.00 100.00     100.00 100.00 100.00         100.00          100.00      100.00      100.00                100.00                          0.00                         0.00  100.00                NaN                NaN             NaN\n",
       "1115        100.00 100.00 100.00     100.00 100.00 100.00         100.00          100.00      100.00      100.00                100.00                          0.00                         0.00  100.00                inf                inf             inf\n",
       "\n",
       "[856 rows x 17 columns]"
      ]
     },
     "execution_count": 23,
     "metadata": {},
     "output_type": "execute_result"
    }
   ],
   "source": [
    "# [count_na.iloc[i_store] for i_store in range(len(count_na))]\n",
    "\n",
    "perc_na_per_store = count_na.apply(lambda x: (x/x[1])*100)\n",
    "\n",
    "stores_na_filter = [any((perc_na_per_store.iloc[i_store].isna()) | (perc_na_per_store.iloc[i_store] < 100)) for i_store in range(len(perc_na_per_store))]\n",
    "\n",
    "perc_na_per_store.loc[stores_na_filter]"
   ]
  },
  {
   "cell_type": "markdown",
   "metadata": {
    "hidden": true
   },
   "source": [
    "###### Conclusions"
   ]
  },
  {
   "cell_type": "markdown",
   "metadata": {
    "hidden": true
   },
   "source": [
    "Since it is a generalized presence of missing values over almost all stores, those cannot be specifically removed, but according to percentage of each attribute we can choose if it is not worth it continuing with those attributes. Like the promo2 columns could be dropped since almost half of the records are missing.\n",
    "\n",
    "The other attributes can be filled with some preliminary value on the 1st CRISP cycle, only to allow solution delivery process, and then optimize what could be the best imputation strategy."
   ]
  },
  {
   "cell_type": "markdown",
   "metadata": {
    "heading_collapsed": true,
    "hidden": true
   },
   "source": [
    "#### Missing Records"
   ]
  },
  {
   "cell_type": "code",
   "execution_count": null,
   "metadata": {
    "hidden": true
   },
   "outputs": [],
   "source": []
  },
  {
   "cell_type": "markdown",
   "metadata": {
    "heading_collapsed": true,
    "hidden": true
   },
   "source": [
    "#### Duplicated Records"
   ]
  },
  {
   "cell_type": "code",
   "execution_count": null,
   "metadata": {
    "hidden": true
   },
   "outputs": [],
   "source": []
  },
  {
   "cell_type": "markdown",
   "metadata": {
    "heading_collapsed": true,
    "hidden": true
   },
   "source": [
    "### 1.10 Define Business Data Assumptions and Hypothesis"
   ]
  },
  {
   "cell_type": "code",
   "execution_count": null,
   "metadata": {
    "hidden": true
   },
   "outputs": [],
   "source": []
  },
  {
   "cell_type": "markdown",
   "metadata": {
    "heading_collapsed": true,
    "hidden": true
   },
   "source": [
    "#### Attributes Usefulness for the task"
   ]
  },
  {
   "cell_type": "markdown",
   "metadata": {
    "hidden": true
   },
   "source": [
    "**competition_open_since_month** - it can be important to analyze how much impact the sales could have been suffering since a competition store has opened nearby"
   ]
  },
  {
   "cell_type": "code",
   "execution_count": null,
   "metadata": {
    "hidden": true
   },
   "outputs": [],
   "source": []
  },
  {
   "cell_type": "markdown",
   "metadata": {
    "heading_collapsed": true
   },
   "source": [
    "## 2. Data Pre-processing"
   ]
  },
  {
   "cell_type": "code",
   "execution_count": 74,
   "metadata": {
    "hidden": true
   },
   "outputs": [],
   "source": [
    "stores_sales_df_preprocess = stores_sales_df_eda.copy(deep=True)"
   ]
  },
  {
   "cell_type": "markdown",
   "metadata": {
    "heading_collapsed": true,
    "hidden": true
   },
   "source": [
    "### 2.1 Feature Imputation"
   ]
  },
  {
   "cell_type": "markdown",
   "metadata": {
    "heading_collapsed": true,
    "hidden": true
   },
   "source": [
    "#### Filling missing values"
   ]
  },
  {
   "cell_type": "markdown",
   "metadata": {
    "hidden": true
   },
   "source": [
    "**Filling NA strategy:**\n",
    "\n",
    "- **competition_distance** - as the maximum value is 75860.00 a missing value can be replaced by a higher value representing that this store may not have a competitor \n",
    "- **competition_open_since_month** - assuming that we have a competitor by looking at the competition distance on each store and check if it is equal or smaller than the original maximum competition distance, I can assume that the competitor is opened since the current daily sales record month\n",
    "- **competition_open_since_year** - assuming that we have a competitor by looking at the competition distance on each store and check if it is equal or smaller than the original maximum competition distance, I can assume that the competitor is opened since the current daily sales record year\n",
    "\n",
    "- **promo2_since_week** - assuming that there is really a promotion applied on the store on the current daily sales record, by looking at the binary variable promo2, I can assume that the promotion is applied since the week of this record\n",
    "- **promo2_since_year** - assuming that there is really a promotion applied on the store on the current daily sales record, by looking at the binary variable promo2, I can assume that the promotion is applied since the year of this record\n",
    "- **promo_interval** - assuming that it could have been a failure on recording sales procedure, the month interval that the promo is applied it can be replaced by the month of the current daily sales record, only if the promo2 variable is 1. "
   ]
  },
  {
   "cell_type": "code",
   "execution_count": 75,
   "metadata": {
    "hidden": true
   },
   "outputs": [],
   "source": [
    "# competition_distance\n",
    "orig_max_competition_dist = stores_sales_df_preprocess.competition_distance.max()\n",
    "stores_sales_df_preprocess.loc[stores_sales_df_preprocess.competition_distance.isna(),'competition_distance'] = 200000.00\n",
    "\n",
    "# competition_open_since_month\n",
    "stores_sales_df_preprocess.competition_open_since_month = stores_sales_df_preprocess[['date',\n",
    "                                                                                      'competition_distance',\n",
    "                                                                                      'competition_open_since_month']].apply(lambda x: x[0].month if (math.isnan(x[2])) \\\n",
    "                                                                                                                                                    #(x[1] <= orig_max_competition_dist)\n",
    "                                                                                                                                  else x[2],axis=1)\n",
    "# competition_open_since_year\n",
    "stores_sales_df_preprocess.competition_open_since_year = stores_sales_df_preprocess[['date',\n",
    "                                                                                     'competition_distance',\n",
    "                                                                                     'competition_open_since_year']].apply(lambda x: x[0].year if (math.isnan(x[2])) \\\n",
    "                                                                                                                                                 #(x[1] <= orig_max_competition_dist)\n",
    "                                                                                                                                else x[2],axis=1)\n",
    "\n",
    "# promo2_since_week\n",
    "stores_sales_df_preprocess.promo2_since_week = stores_sales_df_preprocess[['date',\n",
    "                                                                           'promo2',\n",
    "                                                                           'promo2_since_week']].apply(lambda x: x[0].week if (math.isnan(x[2])) & \\\n",
    "                                                                                                                                         (x[1] == 1)\n",
    "                                                                                                            else x[2],axis=1)\n",
    "\n",
    "# promo2_since_year \n",
    "stores_sales_df_preprocess.promo2_since_year = stores_sales_df_preprocess[['date',\n",
    "                                                                           'promo2',\n",
    "                                                                           'promo2_since_year']].apply(lambda x: x[0].year if (math.isnan(x[2])) & \\\n",
    "                                                                                                                                         (x[1] == 1)\n",
    "                                                                                                            else x[2],axis=1)\n",
    "# promo_interval\n",
    "month_dict = {1:'Jan', 2:'Fev', 3:'Mar', 4:'Apr', 5:'May', 6:'Jun', 7:'Jul', 8:'Aug', 9:'Sept', 10:'Oct', 11:'Nov', 12:'Dec'}\n",
    "stores_sales_df_preprocess.loc[stores_sales_df_preprocess.promo_interval.isna(),'promo_interval'] = stores_sales_df_preprocess.date.dt.month.map( month_dict )\n",
    "\n",
    "stores_sales_df_preprocess.loc[stores_sales_df_preprocess.promo2 == 0,'promo_interval'] = np.NaN"
   ]
  },
  {
   "cell_type": "code",
   "execution_count": 76,
   "metadata": {
    "hidden": true
   },
   "outputs": [
    {
     "data": {
      "text/plain": [
       "array([nan, 'Jan,Apr,Jul,Oct', 'Feb,May,Aug,Nov', 'Mar,Jun,Sept,Dec'],\n",
       "      dtype=object)"
      ]
     },
     "execution_count": 76,
     "metadata": {},
     "output_type": "execute_result"
    }
   ],
   "source": [
    "stores_sales_df_preprocess.promo_interval.unique()"
   ]
  },
  {
   "cell_type": "code",
   "execution_count": 77,
   "metadata": {
    "hidden": true
   },
   "outputs": [
    {
     "data": {
      "text/plain": [
       "store                                0\n",
       "day_of_week                          0\n",
       "date                                 0\n",
       "sales                                0\n",
       "customers                            0\n",
       "open                                 0\n",
       "promo                                0\n",
       "state_holiday                        0\n",
       "school_holiday                       0\n",
       "store_type                           0\n",
       "assortment                           0\n",
       "competition_distance                 0\n",
       "competition_open_since_month         0\n",
       "competition_open_since_year          0\n",
       "promo2                               0\n",
       "promo2_since_week               508031\n",
       "promo2_since_year               508031\n",
       "promo_interval                  508031\n",
       "dtype: int64"
      ]
     },
     "execution_count": 77,
     "metadata": {},
     "output_type": "execute_result"
    }
   ],
   "source": [
    "stores_sales_df_preprocess.isna().sum()"
   ]
  },
  {
   "cell_type": "markdown",
   "metadata": {
    "hidden": true
   },
   "source": [
    "###### Conclusion"
   ]
  },
  {
   "cell_type": "markdown",
   "metadata": {
    "hidden": true
   },
   "source": [
    "By filling the missing values of promo2_since_week, promo2_since_year and promo_interval with the condition of only filling them if the complete binary attribute of promo2 si set to 1, we can conclude that these stores may not have been doing promotions, so the nan values must be kept."
   ]
  },
  {
   "cell_type": "code",
   "execution_count": null,
   "metadata": {
    "hidden": true
   },
   "outputs": [],
   "source": []
  }
 ],
 "metadata": {
  "kernelspec": {
   "display_name": "env_ross_pred",
   "language": "python",
   "name": "env_ross_pred"
  },
  "language_info": {
   "codemirror_mode": {
    "name": "ipython",
    "version": 3
   },
   "file_extension": ".py",
   "mimetype": "text/x-python",
   "name": "python",
   "nbconvert_exporter": "python",
   "pygments_lexer": "ipython3",
   "version": "3.8.10"
  },
  "toc": {
   "base_numbering": 1,
   "nav_menu": {},
   "number_sections": false,
   "sideBar": true,
   "skip_h1_title": false,
   "title_cell": "Table of Contents",
   "title_sidebar": "Contents",
   "toc_cell": false,
   "toc_position": {},
   "toc_section_display": true,
   "toc_window_display": false
  }
 },
 "nbformat": 4,
 "nbformat_minor": 4
}
